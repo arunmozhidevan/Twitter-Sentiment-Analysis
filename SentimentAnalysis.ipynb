{
 "cells": [
  {
   "cell_type": "code",
   "execution_count": 68,
   "metadata": {},
   "outputs": [
    {
     "data": {
      "text/plain": [
       "True"
      ]
     },
     "execution_count": 68,
     "metadata": {},
     "output_type": "execute_result"
    }
   ],
   "source": [
    "from dotenv import load_dotenv\n",
    "from scipy.special import softmax\n",
    "from transformers import AutoTokenizer, AutoModelForSequenceClassification\n",
    "import matplotlib.pyplot as plt\n",
    "import os\n",
    "import pandas as pd\n",
    "import re \n",
    "import tweepy \n",
    "load_dotenv()"
   ]
  },
  {
   "attachments": {},
   "cell_type": "markdown",
   "metadata": {},
   "source": [
    "API authenticatoin"
   ]
  },
  {
   "cell_type": "code",
   "execution_count": 69,
   "metadata": {},
   "outputs": [],
   "source": [
    "twitterApiKey = os.getenv(\"API_key\")\n",
    "twitterApiSecret = os.getenv(\"API_secret_key\")\n",
    "twitterApiAccessToken = os.getenv(\"Access_token\")\n",
    "twitterApiAccessTokenSecret = os.getenv(\"Access_token_secret\")\n",
    "auth = tweepy.OAuthHandler(twitterApiKey,twitterApiSecret)\n",
    "api = tweepy.API(auth)"
   ]
  },
  {
   "attachments": {},
   "cell_type": "markdown",
   "metadata": {},
   "source": [
    "Extracting tweets"
   ]
  },
  {
   "cell_type": "code",
   "execution_count": 70,
   "metadata": {},
   "outputs": [
    {
     "data": {
      "text/plain": [
       "['So last night I saw   and it was pretty fun I’ll have to see it a second time to really cement my thoughts on it. But I thought it was good not the absolute dumpster fire that everyone is saying it is',\n",
       " 'With Scott Lang, even a trip to the Quantum Realm feels like camping. Almost. 🏕Experience Marvel Studios’ …',\n",
       " 'I missed Luis in ! They could’ve at least had him do a recap of events up until now! 😕',\n",
       " 'A story in two parts.    🍿 🎬',\n",
       " 'These are all  tech btw. Wouldn’t be shocked if they were from the same Kang that was stranded in …',\n",
       " 'Finally seeing   w/ my Avenger Crew',\n",
       " 'Check out this Marvel Studios’  inspired fan art by .Now playing, only in thea…',\n",
       " 'Out Now 522 Ant-Man and the Wasp Quantumania  via   …',\n",
       " 'was much better in 3D. Scope of the quantum realm was felt a bit more with it popping out at you.',\n",
       " 'Weekend Box Office Forecast ANT-MAN AND THE WASP QUANTUMANIA to Conquer Again, COCAINE BEAR and JESUS REVOLUTION Counter with Sleeper PotentialRead more',\n",
       " 'Still thinking about the Scarlet Witch Realm scene. They really did THAT.  …',\n",
       " 'No way is this a real book 😂 that’s so cool. I might actually pick this up. I fucking love this 😂',\n",
       " 'Out Now 522 Ant-Man and the Wasp Quantumania  via',\n",
       " 'MOVIE REVIEW',\n",
       " 'Jonathan Majors did the thing 🥵',\n",
       " \"'s post-credits scene appears to feature [SPOILERS]' device from ! Our brea…\",\n",
       " 'Everyone is hyping up  first post credit but that second one is literally everything I wanted',\n",
       " 'Another one!!    $AMCAlso, that Oreo popcorn is also delicious! …',\n",
       " '7th movie of 2023  🍿🙌🏼🎉🚀',\n",
       " 'After seeing her in Quantumania? Katy O’Brien needs to be casted as the superior, and more badass version of Cara Dune!',\n",
       " 'VFX shortcuts were taken for  with resources diverted to  \"Like previous…',\n",
       " 'The best thing about ant man was the second post credit scene.  https//t.…',\n",
       " 'Humpty Dumpty DUPE',\n",
       " 'He must be protected at all costs',\n",
       " \"TONIGHT Reviewing  and debating whether or not we've reached the point of there being too much Marvel. Your superheroes might be fatigued! Live at 630pm CST!\",\n",
       " 'Where was the FTC when disney bought out all those studios? Suddenly they’re so interested in MSFT while they turn away from Disney. The merger will not cause a monopoly as there are so🙊',\n",
       " 'was good, not great, but good. My main complaint is that I am hardly ever not completely sucked into the world of the movie. This movie did not do that. I was often able to REALLY tell they were just actors in front of a BAD green screen.',\n",
       " 'That  though!  Give  and I a listen while we break it down!',\n",
       " 'Just dropped kids off, date night with !',\n",
       " 'With Scott Lang, even a trip to the Quantum Realm feels like camping. Almost. 🏕Experience Marvel Studios’  in 3D, now playing only in theaters. Get tickets now',\n",
       " 'Corey Stoll’s Darren Cross returns as MODOK in',\n",
       " \"Guys, don't criticize  or else the Disney Ninjas will come to your house and discreetly put you down.\",\n",
       " 'Posted this video after Since  came out I’ve seen more and more people talking about it.I thought they were linked to the Eternals, but people are linking them to Kang.What do you think?',\n",
       " 'Ep    Now On https//t…',\n",
       " 'Will you follow me into the Quantum Realm?? ..well you can just watch my review for   link dow…',\n",
       " 'Actually surprisingly enjoyed  a lot more than I thought I would. A welcoming experience, I…',\n",
       " 'paul rudd and jonathan majors are definitely the best thing that ever happened to the mcu. i love them SO MUCH…',\n",
       " 'under attack - what  and I think of the movie!  and  reunions…',\n",
       " 'This Friday, the “best Ant-Man film yet” arrives. Experience Marvel Studios’  only in theaters Fe…',\n",
       " \"They should've called it Kang Quantumania\",\n",
       " 'On this , the panel sits down to discuss ,  &amp; !            on',\n",
       " 'Countless probabilities but “We all want the same thing.”',\n",
       " 'POST CREDIT SCENE!!!!',\n",
       " 'Incredibly fun surprising the audience on opening night of  thank you for showing up and sho…',\n",
       " 'ANT-MAN AND THE WASP QUANUMANIA has a mid credits scene and a post credits scene. ✅ ✅Both sound like they are impor…',\n",
       " 'The  movie in the world.Experience Marvel Studios’  in 3D, now playing only in theaters. Get ti…',\n",
       " 'A new saga has begun. Experience Marvel Studios’  in 3D, now playing only in theaters. Get ticket…',\n",
       " 'It’s almost time. Tomorrow, experience Marvel Studios’  in 3D, only in theaters. Get tickets now…',\n",
       " 'Kang has arrived. Experience Marvel Studios’  in 3D, now playing only in theaters. Get tickets no…',\n",
       " 'The wait ends tonight. Marvel Studios’  arrives in 3D, only in theaters. Get tickets now https/…',\n",
       " 'Shop🛍️ here ❤️',\n",
       " 'This scene is everything to me ♥️      …',\n",
       " 'Who do you like better?  or  vote and let me know!',\n",
       " 'This is it, FULL review of  Were gonna dig into the movie, what we loved, what we hated, this next phase of marvel. M.O.D.O.K,  as Kang, the recasting of Cassie Lang and where we rank this movie in the',\n",
       " 'When  invades the US…we’re fucked😑',\n",
       " 'Still overthinking the post-credit scene of   😰',\n",
       " '$7.1M TUE for  pushing 5-day start to $127.5M. Full opening week 7-day  on track fo…',\n",
       " 'Luis in the Quantum Realm would have been perfect actually.Having Luis meet…',\n",
       " 'Comecei a assistir Ant-Man and the Wasp Quantumania (2023)',\n",
       " 'This scene is everything to me ♥️',\n",
       " 'I mean … sure there’s lots to complain about with  and the  in general … there is about every movie ever made. The  just ain’t it.',\n",
       " 'Ant-Man and The Wasp Quantumania Movie Clip - Jump Tap --&gt;',\n",
       " 'loves messing with my brain about the multiverse… just watched  and i loved it \\U0001faf6',\n",
       " 'Check out this Marvel Studios’  inspired fan art by .Now playing, only in theaters. G…',\n",
       " 'rules, and I don’t give a flying fart what anyone says. The end credits scene was kind of bonkers.',\n",
       " \"We saw  over the weekend and we all really liked it. I know it's reviews are middling but I enjoyed it. Seems to be doing well at the box office also. Not sure what people's issue is with it. Is it all an End Game post depression?\",\n",
       " 'Seated and ready to go for round 2 of  but this time in IMAX']"
      ]
     },
     "execution_count": 70,
     "metadata": {},
     "output_type": "execute_result"
    }
   ],
   "source": [
    "tweets=[]\n",
    "query = 'AntManAndTheWaspQuantumania'\n",
    "for tweet in api.search_tweets(q=query, lang=\"en\", count=100, tweet_mode='extended'):\n",
    "  txt = re.sub(f'(\\w+:\\/\\/\\w+.\\w+\\/\\w*)|#\\w*|@[\\w\\d]+|\\u202f|:|\\n|^RT ', \"\", tweet._json['full_text']).strip()\n",
    "  if txt not in tweets:\n",
    "    tweets.append(txt)\n",
    "tweets"
   ]
  },
  {
   "attachments": {},
   "cell_type": "markdown",
   "metadata": {},
   "source": [
    "Load model"
   ]
  },
  {
   "cell_type": "code",
   "execution_count": 71,
   "metadata": {},
   "outputs": [],
   "source": [
    "roberta = 'cardiffnlp/twitter-roberta-base-sentiment'\n",
    "model = AutoModelForSequenceClassification.from_pretrained(roberta)"
   ]
  },
  {
   "attachments": {},
   "cell_type": "markdown",
   "metadata": {},
   "source": [
    "Load tokenizer"
   ]
  },
  {
   "cell_type": "code",
   "execution_count": 72,
   "metadata": {},
   "outputs": [],
   "source": [
    "tokenizer = AutoTokenizer.from_pretrained(roberta)"
   ]
  },
  {
   "cell_type": "code",
   "execution_count": 73,
   "metadata": {},
   "outputs": [],
   "source": [
    "labels = ['Negative', 'Neutral', 'Positive']"
   ]
  },
  {
   "attachments": {},
   "cell_type": "markdown",
   "metadata": {},
   "source": [
    "Sentiment Anaysis"
   ]
  },
  {
   "cell_type": "code",
   "execution_count": 74,
   "metadata": {},
   "outputs": [],
   "source": [
    "tweet_data = pd.DataFrame()"
   ]
  },
  {
   "cell_type": "code",
   "execution_count": 75,
   "metadata": {},
   "outputs": [],
   "source": [
    "sentiments = []\n",
    "for tweet in tweets:\n",
    "    encoded_tweet = tokenizer(tweet, return_tensors='pt')\n",
    "    output = model(**encoded_tweet)\n",
    "    scores = softmax(output[0][0].detach().numpy())\n",
    "    sentiments.append(max(list(zip(scores, labels)))) "
   ]
  },
  {
   "cell_type": "code",
   "execution_count": 76,
   "metadata": {},
   "outputs": [],
   "source": [
    "tweet_data['tweets'] = tweets\n",
    "tweet_data[['score', 'sentiment']] = sentiments"
   ]
  },
  {
   "cell_type": "code",
   "execution_count": 77,
   "metadata": {},
   "outputs": [
    {
     "data": {
      "text/html": [
       "<div>\n",
       "<style scoped>\n",
       "    .dataframe tbody tr th:only-of-type {\n",
       "        vertical-align: middle;\n",
       "    }\n",
       "\n",
       "    .dataframe tbody tr th {\n",
       "        vertical-align: top;\n",
       "    }\n",
       "\n",
       "    .dataframe thead th {\n",
       "        text-align: right;\n",
       "    }\n",
       "</style>\n",
       "<table border=\"1\" class=\"dataframe\">\n",
       "  <thead>\n",
       "    <tr style=\"text-align: right;\">\n",
       "      <th></th>\n",
       "      <th>tweets</th>\n",
       "      <th>score</th>\n",
       "      <th>sentiment</th>\n",
       "    </tr>\n",
       "  </thead>\n",
       "  <tbody>\n",
       "    <tr>\n",
       "      <th>0</th>\n",
       "      <td>So last night I saw   and it was pretty fun I’...</td>\n",
       "      <td>0.866439</td>\n",
       "      <td>Positive</td>\n",
       "    </tr>\n",
       "    <tr>\n",
       "      <th>1</th>\n",
       "      <td>With Scott Lang, even a trip to the Quantum Re...</td>\n",
       "      <td>0.526582</td>\n",
       "      <td>Positive</td>\n",
       "    </tr>\n",
       "    <tr>\n",
       "      <th>2</th>\n",
       "      <td>I missed Luis in ! They could’ve at least had ...</td>\n",
       "      <td>0.542404</td>\n",
       "      <td>Negative</td>\n",
       "    </tr>\n",
       "    <tr>\n",
       "      <th>3</th>\n",
       "      <td>A story in two parts.    🍿 🎬</td>\n",
       "      <td>0.76446</td>\n",
       "      <td>Neutral</td>\n",
       "    </tr>\n",
       "    <tr>\n",
       "      <th>4</th>\n",
       "      <td>These are all  tech btw. Wouldn’t be shocked i...</td>\n",
       "      <td>0.732643</td>\n",
       "      <td>Neutral</td>\n",
       "    </tr>\n",
       "    <tr>\n",
       "      <th>...</th>\n",
       "      <td>...</td>\n",
       "      <td>...</td>\n",
       "      <td>...</td>\n",
       "    </tr>\n",
       "    <tr>\n",
       "      <th>62</th>\n",
       "      <td>loves messing with my brain about the multiver...</td>\n",
       "      <td>0.927182</td>\n",
       "      <td>Positive</td>\n",
       "    </tr>\n",
       "    <tr>\n",
       "      <th>63</th>\n",
       "      <td>Check out this Marvel Studios’  inspired fan a...</td>\n",
       "      <td>0.670023</td>\n",
       "      <td>Neutral</td>\n",
       "    </tr>\n",
       "    <tr>\n",
       "      <th>64</th>\n",
       "      <td>rules, and I don’t give a flying fart what any...</td>\n",
       "      <td>0.908789</td>\n",
       "      <td>Negative</td>\n",
       "    </tr>\n",
       "    <tr>\n",
       "      <th>65</th>\n",
       "      <td>We saw  over the weekend and we all really lik...</td>\n",
       "      <td>0.892001</td>\n",
       "      <td>Positive</td>\n",
       "    </tr>\n",
       "    <tr>\n",
       "      <th>66</th>\n",
       "      <td>Seated and ready to go for round 2 of  but thi...</td>\n",
       "      <td>0.530146</td>\n",
       "      <td>Neutral</td>\n",
       "    </tr>\n",
       "  </tbody>\n",
       "</table>\n",
       "<p>67 rows × 3 columns</p>\n",
       "</div>"
      ],
      "text/plain": [
       "                                               tweets     score sentiment\n",
       "0   So last night I saw   and it was pretty fun I’...  0.866439  Positive\n",
       "1   With Scott Lang, even a trip to the Quantum Re...  0.526582  Positive\n",
       "2   I missed Luis in ! They could’ve at least had ...  0.542404  Negative\n",
       "3                        A story in two parts.    🍿 🎬   0.76446   Neutral\n",
       "4   These are all  tech btw. Wouldn’t be shocked i...  0.732643   Neutral\n",
       "..                                                ...       ...       ...\n",
       "62  loves messing with my brain about the multiver...  0.927182  Positive\n",
       "63  Check out this Marvel Studios’  inspired fan a...  0.670023   Neutral\n",
       "64  rules, and I don’t give a flying fart what any...  0.908789  Negative\n",
       "65  We saw  over the weekend and we all really lik...  0.892001  Positive\n",
       "66  Seated and ready to go for round 2 of  but thi...  0.530146   Neutral\n",
       "\n",
       "[67 rows x 3 columns]"
      ]
     },
     "execution_count": 77,
     "metadata": {},
     "output_type": "execute_result"
    }
   ],
   "source": [
    "tweet_data"
   ]
  },
  {
   "cell_type": "code",
   "execution_count": 85,
   "metadata": {},
   "outputs": [
    {
     "data": {
      "text/plain": [
       "<Axes: >"
      ]
     },
     "execution_count": 85,
     "metadata": {},
     "output_type": "execute_result"
    },
    {
     "data": {
      "image/png": "[encoded data removed]",
      "text/plain": [
       "<Figure size 640x480 with 1 Axes>"
      ]
     },
     "metadata": {},
     "output_type": "display_data"
    }
   ],
   "source": [
    "tweet_data['sentiment'].value_counts().plot.bar()"
   ]
  },
  {
   "attachments": {},
   "cell_type": "markdown",
   "metadata": {},
   "source": [
    "References"
   ]
  },
  {
   "attachments": {},
   "cell_type": "markdown",
   "metadata": {},
   "source": [
    "https://developer.twitter.com/en/docs/twitter-api/v1/tweets/search/api-reference/get-search-tweets"
   ]
  }
 ],
 "metadata": {
  "kernelspec": {
   "display_name": "Python 3",
   "language": "python",
   "name": "python3"
  },
  "language_info": {
   "codemirror_mode": {
    "name": "ipython",
    "version": 3
   },
   "file_extension": ".py",
   "mimetype": "text/x-python",
   "name": "python",
   "nbconvert_exporter": "python",
   "pygments_lexer": "ipython3",
   "version": "3.9.13"
  },
  "orig_nbformat": 4,
  "vscode": {
   "interpreter": {
    "hash": "0b959586048a3022a9b03147021240c378eab34ad384995e7e60563d1beff162"
   }
  }
 },
 "nbformat": 4,
 "nbformat_minor": 2
}
