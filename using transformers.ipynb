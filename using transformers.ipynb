{
 "cells": [
  {
   "cell_type": "code",
   "execution_count": 2,
   "metadata": {},
   "outputs": [
    {
     "name": "stderr",
     "output_type": "stream",
     "text": [
      "C:\\Users\\AMD\\AppData\\Local\\Packages\\PythonSoftwareFoundation.Python.3.9_qbz5n2kfra8p0\\LocalCache\\local-packages\\Python39\\site-packages\\tqdm\\auto.py:22: TqdmWarning: IProgress not found. Please update jupyter and ipywidgets. See https://ipywidgets.readthedocs.io/en/stable/user_install.html\n",
      "  from .autonotebook import tqdm as notebook_tqdm\n"
     ]
    },
    {
     "data": {
      "text/plain": [
       "True"
      ]
     },
     "execution_count": 2,
     "metadata": {},
     "output_type": "execute_result"
    }
   ],
   "source": [
    "from dotenv import load_dotenv\n",
    "from scipy.special import softmax\n",
    "from transformers import AutoTokenizer, AutoModelForSequenceClassification\n",
    "import matplotlib.pyplot as plt\n",
    "import os\n",
    "import pandas as pd\n",
    "import re \n",
    "import tweepy \n",
    "load_dotenv()"
   ]
  },
  {
   "attachments": {},
   "cell_type": "markdown",
   "metadata": {},
   "source": [
    "API authenticatoin"
   ]
  },
  {
   "cell_type": "code",
   "execution_count": 3,
   "metadata": {},
   "outputs": [],
   "source": [
    "twitterApiKey = os.getenv(\"API_key\")\n",
    "twitterApiSecret = os.getenv(\"API_secret_key\")\n",
    "twitterApiAccessToken = os.getenv(\"Access_token\")\n",
    "twitterApiAccessTokenSecret = os.getenv(\"Access_token_secret\")\n",
    "auth = tweepy.OAuthHandler(twitterApiKey,twitterApiSecret)\n",
    "api = tweepy.API(auth)"
   ]
  },
  {
   "attachments": {},
   "cell_type": "markdown",
   "metadata": {},
   "source": [
    "Extracting tweets"
   ]
  },
  {
   "cell_type": "code",
   "execution_count": 4,
   "metadata": {},
   "outputs": [
    {
     "data": {
      "text/plain": [
       "['Kang did not die. became a Quantum Temporal Wave.A Timequake.And Al…',\n",
       " 'jonathan majors and michelle pfeiffer are great! the rest of the movie? not so much 👎🏼',\n",
       " 'Weekend Box Office Forecast ANT-MAN AND THE WASP QUANTUMANIA to Conquer Again, COCAINE BEAR and JESUS REVOLUTION Counter w…',\n",
       " 'New poster for',\n",
       " 'Ant-Man and the Wasp Quantumania Breakdown and Discussion     …',\n",
       " 'This is giving me Sweet Tooth vibes from that Twisted Metal video game!  Hope (pun intended) that this one drivable in the Vev…',\n",
       " 'Ant-sized man, larger than life movie. 🐜 Read what we know about  so far over on our blog!…',\n",
       " 'Us during  this weekend! 🤫🐜💥',\n",
       " 'The hype is REAL! Can’t wait to see these stars on the big screen ASAP!…',\n",
       " 'He became sentient Orange Energy that can manipulate timelines.Kinda like someone else I used to be married to...Hmm..._______',\n",
       " \"is saying some shit between the lines. It'd be wise to listen. Legit liked it.\",\n",
       " 'With Scott Lang, even a trip to the Quantum Realm feels like camping. Almost. 🏕Experience Marvel Studios’ …',\n",
       " 'Silent Podcaster Chappell () brings on his co-host Gabe () to review the new Marvel movie…',\n",
       " 'New Episode Out Now🚨 This week our hosts review  and talk about the highly anticipated appearance of   What were your thoughts on the film? Go tune in to the full episode',\n",
       " 'Kang did not die. became a Quantum Temporal Wave.A Timequake.And Alouette Brashear, the Blue Marvel, went to go stop him. |',\n",
       " \"'s post-credits scene appears to feature [SPOILERS]' device from ! Our brea…\",\n",
       " 'Kang did not die. became a Quantum Temporal Wave.A Timequake.And Alouette Brashear, the Blue Marvel, went to go stop him.',\n",
       " 'i love veb!!! 👾💗***        &lt;3…',\n",
       " 'So last night I saw   and it was pretty fun I’ll have to see it a second time to really cement my thoughts on it. But I thought it was good not the absolute dumpster fire that everyone is saying it is',\n",
       " 'I missed Luis in ! They could’ve at least had him do a recap of events up until now! 😕',\n",
       " 'A story in two parts.    🍿 🎬',\n",
       " 'These are all  tech btw. Wouldn’t be shocked if they were from the same Kang that was stranded in …',\n",
       " 'Finally seeing   w/ my Avenger Crew',\n",
       " 'Check out this Marvel Studios’  inspired fan art by .Now playing, only in thea…',\n",
       " 'Out Now 522 Ant-Man and the Wasp Quantumania  via   …',\n",
       " 'was much better in 3D. Scope of the quantum realm was felt a bit more with it popping out at you.',\n",
       " 'Weekend Box Office Forecast ANT-MAN AND THE WASP QUANTUMANIA to Conquer Again, COCAINE BEAR and JESUS REVOLUTION Counter with Sleeper PotentialRead more',\n",
       " 'Still thinking about the Scarlet Witch Realm scene. They really did THAT.  …',\n",
       " 'No way is this a real book 😂 that’s so cool. I might actually pick this up. I fucking love this 😂',\n",
       " 'Out Now 522 Ant-Man and the Wasp Quantumania  via',\n",
       " 'MOVIE REVIEW',\n",
       " 'Jonathan Majors did the thing 🥵',\n",
       " 'Everyone is hyping up  first post credit but that second one is literally everything I wanted',\n",
       " 'Another one!!    $AMCAlso, that Oreo popcorn is also delicious! …',\n",
       " '7th movie of 2023  🍿🙌🏼🎉🚀',\n",
       " 'After seeing her in Quantumania? Katy O’Brien needs to be casted as the superior, and more badass version of Cara Dune!',\n",
       " 'VFX shortcuts were taken for  with resources diverted to  \"Like previous…',\n",
       " 'The best thing about ant man was the second post credit scene.  https//t.…',\n",
       " 'Humpty Dumpty DUPE',\n",
       " 'He must be protected at all costs',\n",
       " \"TONIGHT Reviewing  and debating whether or not we've reached the point of there being too much Marvel. Your superheroes might be fatigued! Live at 630pm CST!\",\n",
       " 'Where was the FTC when disney bought out all those studios? Suddenly they’re so interested in MSFT while they turn away from Disney. The merger will not cause a monopoly as there are so🙊',\n",
       " 'was good, not great, but good. My main complaint is that I am hardly ever not completely sucked into the world of the movie. This movie did not do that. I was often able to REALLY tell they were just actors in front of a BAD green screen.',\n",
       " 'That  though!  Give  and I a listen while we break it down!',\n",
       " 'Just dropped kids off, date night with !',\n",
       " 'With Scott Lang, even a trip to the Quantum Realm feels like camping. Almost. 🏕Experience Marvel Studios’  in 3D, now playing only in theaters. Get tickets now',\n",
       " 'Corey Stoll’s Darren Cross returns as MODOK in',\n",
       " \"Guys, don't criticize  or else the Disney Ninjas will come to your house and discreetly put you down.\",\n",
       " 'Posted this video after Since  came out I’ve seen more and more people talking about it.I thought they were linked to the Eternals, but people are linking them to Kang.What do you think?',\n",
       " 'Ep    Now On https//t…',\n",
       " 'Will you follow me into the Quantum Realm?? ..well you can just watch my review for   link dow…',\n",
       " 'Actually surprisingly enjoyed  a lot more than I thought I would. A welcoming experience, I…',\n",
       " 'paul rudd and jonathan majors are definitely the best thing that ever happened to the mcu. i love them SO MUCH…',\n",
       " 'under attack - what  and I think of the movie!  and  reunions…',\n",
       " 'This Friday, the “best Ant-Man film yet” arrives. Experience Marvel Studios’  only in theaters Fe…',\n",
       " \"They should've called it Kang Quantumania\",\n",
       " 'On this , the panel sits down to discuss ,  &amp; !            on',\n",
       " 'Countless probabilities but “We all want the same thing.”']"
      ]
     },
     "execution_count": 4,
     "metadata": {},
     "output_type": "execute_result"
    }
   ],
   "source": [
    "tweets=[]\n",
    "\n",
    "# search the keyword to extrat from twitter\n",
    "query = 'AntManAndTheWaspQuantumania'\n",
    "\n",
    "for tweet in api.search_tweets(q=query, lang=\"en\", count=100, tweet_mode='extended'):\n",
    "\n",
    "  # remove website links, hashtags, usernames and retweet tags\n",
    "  txt = re.sub(f'(\\w+:\\/\\/\\w+.\\w+\\/\\w*)|#\\w*|@[\\w\\d]+|\\u202f|:|\\n|^RT ', \"\", tweet._json['full_text']).strip()\n",
    "\n",
    "  # to avoid duplication of tweets\n",
    "  if txt not in tweets:\n",
    "    tweets.append(txt)\n",
    "tweets"
   ]
  },
  {
   "attachments": {},
   "cell_type": "markdown",
   "metadata": {},
   "source": [
    "Load model"
   ]
  },
  {
   "cell_type": "code",
   "execution_count": 5,
   "metadata": {},
   "outputs": [],
   "source": [
    "roberta = 'cardiffnlp/twitter-roberta-base-sentiment'\n",
    "model = AutoModelForSequenceClassification.from_pretrained(roberta)"
   ]
  },
  {
   "attachments": {},
   "cell_type": "markdown",
   "metadata": {},
   "source": [
    "Load tokenizer"
   ]
  },
  {
   "cell_type": "code",
   "execution_count": 6,
   "metadata": {},
   "outputs": [],
   "source": [
    "tokenizer = AutoTokenizer.from_pretrained(roberta)"
   ]
  },
  {
   "cell_type": "code",
   "execution_count": 7,
   "metadata": {},
   "outputs": [],
   "source": [
    "labels = ['Negative', 'Neutral', 'Positive']"
   ]
  },
  {
   "attachments": {},
   "cell_type": "markdown",
   "metadata": {},
   "source": [
    "Sentiment Anaysis"
   ]
  },
  {
   "cell_type": "code",
   "execution_count": 8,
   "metadata": {},
   "outputs": [],
   "source": [
    "sentiments = []\n",
    "for tweet in tweets:\n",
    "    encoded_tweet = tokenizer(tweet, return_tensors='pt')\n",
    "    output = model(**encoded_tweet)\n",
    "    scores = softmax(output[0][0].detach().numpy())\n",
    "    sentiments.append(max(list(zip(scores, labels)))) "
   ]
  },
  {
   "cell_type": "code",
   "execution_count": 9,
   "metadata": {},
   "outputs": [],
   "source": [
    "# put the data in the tabular format\n",
    "tweet_data = pd.DataFrame()\n",
    "tweet_data['tweets'] = tweets\n",
    "tweet_data[['score', 'sentiment']] = sentiments"
   ]
  },
  {
   "cell_type": "code",
   "execution_count": 10,
   "metadata": {},
   "outputs": [
    {
     "data": {
      "text/html": [
       "<div>\n",
       "<style scoped>\n",
       "    .dataframe tbody tr th:only-of-type {\n",
       "        vertical-align: middle;\n",
       "    }\n",
       "\n",
       "    .dataframe tbody tr th {\n",
       "        vertical-align: top;\n",
       "    }\n",
       "\n",
       "    .dataframe thead th {\n",
       "        text-align: right;\n",
       "    }\n",
       "</style>\n",
       "<table border=\"1\" class=\"dataframe\">\n",
       "  <thead>\n",
       "    <tr style=\"text-align: right;\">\n",
       "      <th></th>\n",
       "      <th>tweets</th>\n",
       "      <th>score</th>\n",
       "      <th>sentiment</th>\n",
       "    </tr>\n",
       "  </thead>\n",
       "  <tbody>\n",
       "    <tr>\n",
       "      <th>0</th>\n",
       "      <td>Kang did not die. became a Quantum Temporal Wa...</td>\n",
       "      <td>0.788966</td>\n",
       "      <td>Neutral</td>\n",
       "    </tr>\n",
       "    <tr>\n",
       "      <th>1</th>\n",
       "      <td>jonathan majors and michelle pfeiffer are grea...</td>\n",
       "      <td>0.879343</td>\n",
       "      <td>Positive</td>\n",
       "    </tr>\n",
       "    <tr>\n",
       "      <th>2</th>\n",
       "      <td>Weekend Box Office Forecast ANT-MAN AND THE WA...</td>\n",
       "      <td>0.893882</td>\n",
       "      <td>Neutral</td>\n",
       "    </tr>\n",
       "    <tr>\n",
       "      <th>3</th>\n",
       "      <td>New poster for</td>\n",
       "      <td>0.824665</td>\n",
       "      <td>Neutral</td>\n",
       "    </tr>\n",
       "    <tr>\n",
       "      <th>4</th>\n",
       "      <td>Ant-Man and the Wasp Quantumania Breakdown and...</td>\n",
       "      <td>0.894237</td>\n",
       "      <td>Neutral</td>\n",
       "    </tr>\n",
       "    <tr>\n",
       "      <th>5</th>\n",
       "      <td>This is giving me Sweet Tooth vibes from that ...</td>\n",
       "      <td>0.858598</td>\n",
       "      <td>Positive</td>\n",
       "    </tr>\n",
       "    <tr>\n",
       "      <th>6</th>\n",
       "      <td>Ant-sized man, larger than life movie. 🐜 Read ...</td>\n",
       "      <td>0.545592</td>\n",
       "      <td>Positive</td>\n",
       "    </tr>\n",
       "    <tr>\n",
       "      <th>7</th>\n",
       "      <td>Us during  this weekend! 🤫🐜💥</td>\n",
       "      <td>0.649762</td>\n",
       "      <td>Positive</td>\n",
       "    </tr>\n",
       "    <tr>\n",
       "      <th>8</th>\n",
       "      <td>The hype is REAL! Can’t wait to see these star...</td>\n",
       "      <td>0.987533</td>\n",
       "      <td>Positive</td>\n",
       "    </tr>\n",
       "    <tr>\n",
       "      <th>9</th>\n",
       "      <td>He became sentient Orange Energy that can mani...</td>\n",
       "      <td>0.708442</td>\n",
       "      <td>Neutral</td>\n",
       "    </tr>\n",
       "  </tbody>\n",
       "</table>\n",
       "</div>"
      ],
      "text/plain": [
       "                                              tweets     score sentiment\n",
       "0  Kang did not die. became a Quantum Temporal Wa...  0.788966   Neutral\n",
       "1  jonathan majors and michelle pfeiffer are grea...  0.879343  Positive\n",
       "2  Weekend Box Office Forecast ANT-MAN AND THE WA...  0.893882   Neutral\n",
       "3                                     New poster for  0.824665   Neutral\n",
       "4  Ant-Man and the Wasp Quantumania Breakdown and...  0.894237   Neutral\n",
       "5  This is giving me Sweet Tooth vibes from that ...  0.858598  Positive\n",
       "6  Ant-sized man, larger than life movie. 🐜 Read ...  0.545592  Positive\n",
       "7                       Us during  this weekend! 🤫🐜💥  0.649762  Positive\n",
       "8  The hype is REAL! Can’t wait to see these star...  0.987533  Positive\n",
       "9  He became sentient Orange Energy that can mani...  0.708442   Neutral"
      ]
     },
     "execution_count": 10,
     "metadata": {},
     "output_type": "execute_result"
    }
   ],
   "source": [
    "tweet_data.head(10)"
   ]
  },
  {
   "cell_type": "code",
   "execution_count": 11,
   "metadata": {},
   "outputs": [
    {
     "data": {
      "text/plain": [
       "<Axes: >"
      ]
     },
     "execution_count": 11,
     "metadata": {},
     "output_type": "execute_result"
    },
    {
     "data": {
      "image/png": "[encoded data removed]",
      "text/plain": [
       "<Figure size 640x480 with 1 Axes>"
      ]
     },
     "metadata": {},
     "output_type": "display_data"
    }
   ],
   "source": [
    "tweet_data['sentiment'].value_counts().plot.bar()"
   ]
  },
  {
   "attachments": {},
   "cell_type": "markdown",
   "metadata": {},
   "source": [
    "References"
   ]
  },
  {
   "attachments": {},
   "cell_type": "markdown",
   "metadata": {},
   "source": [
    "https://developer.twitter.com/en/docs/twitter-api/v1/tweets/search/api-reference/get-search-tweets"
   ]
  }
 ],
 "metadata": {
  "kernelspec": {
   "display_name": "Python 3",
   "language": "python",
   "name": "python3"
  },
  "language_info": {
   "codemirror_mode": {
    "name": "ipython",
    "version": 3
   },
   "file_extension": ".py",
   "mimetype": "text/x-python",
   "name": "python",
   "nbconvert_exporter": "python",
   "pygments_lexer": "ipython3",
   "version": "3.9.13"
  },
  "orig_nbformat": 4,
  "vscode": {
   "interpreter": {
    "hash": "0b959586048a3022a9b03147021240c378eab34ad384995e7e60563d1beff162"
   }
  }
 },
 "nbformat": 4,
 "nbformat_minor": 2
}
